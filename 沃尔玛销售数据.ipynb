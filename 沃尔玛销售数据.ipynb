{
 "cells": [
  {
   "cell_type": "markdown",
   "id": "0aef0692-1427-4d86-9b3e-dc611d90d3ed",
   "metadata": {},
   "source": [
    "# 项目：沃尔玛销售数据"
   ]
  },
  {
   "cell_type": "markdown",
   "id": "9b8c7617-0ecd-43f7-b766-d2fc35adaac9",
   "metadata": {},
   "source": [
    "## 分析目标"
   ]
  },
  {
   "cell_type": "markdown",
   "id": "65a95d6f-b240-45e7-a4b6-d87495fa5436",
   "metadata": {},
   "source": [
    " 通过对沃尔玛销售数据进行数据分析，找出**供应与需求之间的匹配关系**，预测未来X个月/年的销售情况。"
   ]
  },
  {
   "cell_type": "markdown",
   "id": "b6ca24b1-adf9-41a3-9f2b-eb924677959c",
   "metadata": {},
   "source": [
    "## 简介"
   ]
  },
  {
   "cell_type": "markdown",
   "id": "1a676292-924c-42c4-a730-efb51c2d7585",
   "metadata": {},
   "source": [
    "数据集包括沃尔玛的销售数据。管理层认为全国范围内有多家零售门店在库存管理方面存在问题，希望得到供应与需求之间的关系，并得到未来X月/年的销售情况预测数据，  \n",
    "数据集变量含义如下：  \n",
    "-  Store：店铺编号\n",
    "-  Date：销售周\n",
    "-  Weekly_Sales：店铺在该周的销售额\n",
    "-  Holiday_Flag：是否为假日周\n",
    "-  Temperature：销售日的温度\n",
    "-  Fuel_Price：该地区的燃油成本\n",
    "-  CPI（消费者物价指数）：消费者物价指数\n",
    "-  Unemployment：失业率"
   ]
  },
  {
   "cell_type": "markdown",
   "id": "02dfb2ed-1308-4c66-acf6-bc54c9a90797",
   "metadata": {},
   "source": [
    "## 读取数据"
   ]
  },
  {
   "cell_type": "code",
   "execution_count": 31,
   "id": "165fa830-c710-44fa-bd56-4fe2fc71b2f3",
   "metadata": {},
   "outputs": [],
   "source": [
    "import pandas as pd\n",
    "import numpy as np\n",
    "from datetime import datetime"
   ]
  },
  {
   "cell_type": "code",
   "execution_count": 7,
   "id": "00c9917d-6aeb-4257-8aa6-529574c5df1a",
   "metadata": {},
   "outputs": [
    {
     "data": {
      "text/html": [
       "<div>\n",
       "<style scoped>\n",
       "    .dataframe tbody tr th:only-of-type {\n",
       "        vertical-align: middle;\n",
       "    }\n",
       "\n",
       "    .dataframe tbody tr th {\n",
       "        vertical-align: top;\n",
       "    }\n",
       "\n",
       "    .dataframe thead th {\n",
       "        text-align: right;\n",
       "    }\n",
       "</style>\n",
       "<table border=\"1\" class=\"dataframe\">\n",
       "  <thead>\n",
       "    <tr style=\"text-align: right;\">\n",
       "      <th></th>\n",
       "      <th>Store</th>\n",
       "      <th>Date</th>\n",
       "      <th>Weekly_Sales</th>\n",
       "      <th>Holiday_Flag</th>\n",
       "      <th>Temperature</th>\n",
       "      <th>Fuel_Price</th>\n",
       "      <th>CPI</th>\n",
       "      <th>Unemployment</th>\n",
       "    </tr>\n",
       "  </thead>\n",
       "  <tbody>\n",
       "    <tr>\n",
       "      <th>0</th>\n",
       "      <td>1</td>\n",
       "      <td>05-02-2010</td>\n",
       "      <td>1643690.90</td>\n",
       "      <td>0</td>\n",
       "      <td>42.31</td>\n",
       "      <td>2.572</td>\n",
       "      <td>211.096358</td>\n",
       "      <td>8.106</td>\n",
       "    </tr>\n",
       "    <tr>\n",
       "      <th>1</th>\n",
       "      <td>1</td>\n",
       "      <td>12-02-2010</td>\n",
       "      <td>1641957.44</td>\n",
       "      <td>1</td>\n",
       "      <td>38.51</td>\n",
       "      <td>2.548</td>\n",
       "      <td>211.242170</td>\n",
       "      <td>8.106</td>\n",
       "    </tr>\n",
       "    <tr>\n",
       "      <th>2</th>\n",
       "      <td>1</td>\n",
       "      <td>19-02-2010</td>\n",
       "      <td>1611968.17</td>\n",
       "      <td>0</td>\n",
       "      <td>39.93</td>\n",
       "      <td>2.514</td>\n",
       "      <td>211.289143</td>\n",
       "      <td>8.106</td>\n",
       "    </tr>\n",
       "    <tr>\n",
       "      <th>3</th>\n",
       "      <td>1</td>\n",
       "      <td>26-02-2010</td>\n",
       "      <td>1409727.59</td>\n",
       "      <td>0</td>\n",
       "      <td>46.63</td>\n",
       "      <td>2.561</td>\n",
       "      <td>211.319643</td>\n",
       "      <td>8.106</td>\n",
       "    </tr>\n",
       "    <tr>\n",
       "      <th>4</th>\n",
       "      <td>1</td>\n",
       "      <td>05-03-2010</td>\n",
       "      <td>1554806.68</td>\n",
       "      <td>0</td>\n",
       "      <td>46.50</td>\n",
       "      <td>2.625</td>\n",
       "      <td>211.350143</td>\n",
       "      <td>8.106</td>\n",
       "    </tr>\n",
       "  </tbody>\n",
       "</table>\n",
       "</div>"
      ],
      "text/plain": [
       "   Store        Date  Weekly_Sales  Holiday_Flag  Temperature  Fuel_Price  \\\n",
       "0      1  05-02-2010    1643690.90             0        42.31       2.572   \n",
       "1      1  12-02-2010    1641957.44             1        38.51       2.548   \n",
       "2      1  19-02-2010    1611968.17             0        39.93       2.514   \n",
       "3      1  26-02-2010    1409727.59             0        46.63       2.561   \n",
       "4      1  05-03-2010    1554806.68             0        46.50       2.625   \n",
       "\n",
       "          CPI  Unemployment  \n",
       "0  211.096358         8.106  \n",
       "1  211.242170         8.106  \n",
       "2  211.289143         8.106  \n",
       "3  211.319643         8.106  \n",
       "4  211.350143         8.106  "
      ]
     },
     "execution_count": 7,
     "metadata": {},
     "output_type": "execute_result"
    }
   ],
   "source": [
    "orginal_data = pd.read_csv(\"walmart_stores_data.csv\")\n",
    "orginal_data.head()"
   ]
  },
  {
   "cell_type": "markdown",
   "id": "3e357cc5-42fe-4842-b239-a099648cd088",
   "metadata": {},
   "source": [
    "## 评估数据"
   ]
  },
  {
   "cell_type": "markdown",
   "id": "82fb6fc6-2429-49ff-ab28-fac07c1dab24",
   "metadata": {},
   "source": [
    "这一部分，我将对orginal_data这个DataFrame的数据进行评估。  "
   ]
  },
  {
   "cell_type": "markdown",
   "id": "c5516ee7-e506-470d-9d05-59369803cbc7",
   "metadata": {},
   "source": [
    "评估主要从两个方面进行：结构和内容，即整齐度和干净度。  \n",
    "数据的结构性问题指不满足“每列是一个变量，每行是一个观察值，每个单元格是一个值”三个标准的数据。  \n",
    "数据的内容性问题包括缺失数据、重复数据、不一致数据、无效数据等。"
   ]
  },
  {
   "cell_type": "markdown",
   "id": "5b69b40b-70f0-4588-8646-c92cda9c3aa1",
   "metadata": {},
   "source": [
    "### 评估数据整齐度"
   ]
  },
  {
   "cell_type": "code",
   "execution_count": 19,
   "id": "9537f36a-f470-4fe0-a35b-acbc24763096",
   "metadata": {},
   "outputs": [
    {
     "data": {
      "text/html": [
       "<div>\n",
       "<style scoped>\n",
       "    .dataframe tbody tr th:only-of-type {\n",
       "        vertical-align: middle;\n",
       "    }\n",
       "\n",
       "    .dataframe tbody tr th {\n",
       "        vertical-align: top;\n",
       "    }\n",
       "\n",
       "    .dataframe thead th {\n",
       "        text-align: right;\n",
       "    }\n",
       "</style>\n",
       "<table border=\"1\" class=\"dataframe\">\n",
       "  <thead>\n",
       "    <tr style=\"text-align: right;\">\n",
       "      <th></th>\n",
       "      <th>Store</th>\n",
       "      <th>Date</th>\n",
       "      <th>Weekly_Sales</th>\n",
       "      <th>Holiday_Flag</th>\n",
       "      <th>Temperature</th>\n",
       "      <th>Fuel_Price</th>\n",
       "      <th>CPI</th>\n",
       "      <th>Unemployment</th>\n",
       "    </tr>\n",
       "  </thead>\n",
       "  <tbody>\n",
       "    <tr>\n",
       "      <th>1728</th>\n",
       "      <td>13</td>\n",
       "      <td>30-04-2010</td>\n",
       "      <td>1785823.37</td>\n",
       "      <td>0</td>\n",
       "      <td>48.33</td>\n",
       "      <td>2.941</td>\n",
       "      <td>126.380567</td>\n",
       "      <td>8.107</td>\n",
       "    </tr>\n",
       "    <tr>\n",
       "      <th>1877</th>\n",
       "      <td>14</td>\n",
       "      <td>11-06-2010</td>\n",
       "      <td>2249570.04</td>\n",
       "      <td>0</td>\n",
       "      <td>69.71</td>\n",
       "      <td>2.809</td>\n",
       "      <td>182.431557</td>\n",
       "      <td>8.899</td>\n",
       "    </tr>\n",
       "    <tr>\n",
       "      <th>3893</th>\n",
       "      <td>28</td>\n",
       "      <td>17-09-2010</td>\n",
       "      <td>1159812.35</td>\n",
       "      <td>0</td>\n",
       "      <td>82.45</td>\n",
       "      <td>3.028</td>\n",
       "      <td>126.145467</td>\n",
       "      <td>14.180</td>\n",
       "    </tr>\n",
       "    <tr>\n",
       "      <th>607</th>\n",
       "      <td>5</td>\n",
       "      <td>08-10-2010</td>\n",
       "      <td>290494.85</td>\n",
       "      <td>0</td>\n",
       "      <td>64.99</td>\n",
       "      <td>2.633</td>\n",
       "      <td>212.301952</td>\n",
       "      <td>6.768</td>\n",
       "    </tr>\n",
       "    <tr>\n",
       "      <th>1712</th>\n",
       "      <td>12</td>\n",
       "      <td>05-10-2012</td>\n",
       "      <td>979825.92</td>\n",
       "      <td>0</td>\n",
       "      <td>81.61</td>\n",
       "      <td>3.966</td>\n",
       "      <td>131.075667</td>\n",
       "      <td>10.199</td>\n",
       "    </tr>\n",
       "    <tr>\n",
       "      <th>2451</th>\n",
       "      <td>18</td>\n",
       "      <td>25-06-2010</td>\n",
       "      <td>1220983.17</td>\n",
       "      <td>0</td>\n",
       "      <td>74.04</td>\n",
       "      <td>2.810</td>\n",
       "      <td>132.497600</td>\n",
       "      <td>9.269</td>\n",
       "    </tr>\n",
       "    <tr>\n",
       "      <th>3432</th>\n",
       "      <td>25</td>\n",
       "      <td>05-02-2010</td>\n",
       "      <td>677231.63</td>\n",
       "      <td>0</td>\n",
       "      <td>21.10</td>\n",
       "      <td>2.784</td>\n",
       "      <td>204.247194</td>\n",
       "      <td>8.187</td>\n",
       "    </tr>\n",
       "    <tr>\n",
       "      <th>5378</th>\n",
       "      <td>38</td>\n",
       "      <td>07-10-2011</td>\n",
       "      <td>449516.29</td>\n",
       "      <td>0</td>\n",
       "      <td>70.44</td>\n",
       "      <td>3.827</td>\n",
       "      <td>129.693800</td>\n",
       "      <td>12.890</td>\n",
       "    </tr>\n",
       "    <tr>\n",
       "      <th>1391</th>\n",
       "      <td>10</td>\n",
       "      <td>03-02-2012</td>\n",
       "      <td>1867403.01</td>\n",
       "      <td>0</td>\n",
       "      <td>56.85</td>\n",
       "      <td>3.543</td>\n",
       "      <td>130.349677</td>\n",
       "      <td>7.545</td>\n",
       "    </tr>\n",
       "    <tr>\n",
       "      <th>4466</th>\n",
       "      <td>32</td>\n",
       "      <td>24-09-2010</td>\n",
       "      <td>1067432.10</td>\n",
       "      <td>0</td>\n",
       "      <td>64.19</td>\n",
       "      <td>2.793</td>\n",
       "      <td>190.571326</td>\n",
       "      <td>9.017</td>\n",
       "    </tr>\n",
       "    <tr>\n",
       "      <th>3269</th>\n",
       "      <td>23</td>\n",
       "      <td>15-06-2012</td>\n",
       "      <td>1543667.68</td>\n",
       "      <td>0</td>\n",
       "      <td>64.73</td>\n",
       "      <td>3.683</td>\n",
       "      <td>138.129533</td>\n",
       "      <td>4.125</td>\n",
       "    </tr>\n",
       "    <tr>\n",
       "      <th>1816</th>\n",
       "      <td>13</td>\n",
       "      <td>06-01-2012</td>\n",
       "      <td>1865752.78</td>\n",
       "      <td>0</td>\n",
       "      <td>33.80</td>\n",
       "      <td>3.080</td>\n",
       "      <td>130.157516</td>\n",
       "      <td>6.104</td>\n",
       "    </tr>\n",
       "    <tr>\n",
       "      <th>914</th>\n",
       "      <td>7</td>\n",
       "      <td>04-03-2011</td>\n",
       "      <td>551378.39</td>\n",
       "      <td>0</td>\n",
       "      <td>21.84</td>\n",
       "      <td>3.232</td>\n",
       "      <td>192.011600</td>\n",
       "      <td>8.818</td>\n",
       "    </tr>\n",
       "    <tr>\n",
       "      <th>6405</th>\n",
       "      <td>45</td>\n",
       "      <td>06-04-2012</td>\n",
       "      <td>899479.43</td>\n",
       "      <td>0</td>\n",
       "      <td>49.73</td>\n",
       "      <td>3.996</td>\n",
       "      <td>190.685171</td>\n",
       "      <td>8.567</td>\n",
       "    </tr>\n",
       "    <tr>\n",
       "      <th>80</th>\n",
       "      <td>1</td>\n",
       "      <td>19-08-2011</td>\n",
       "      <td>1530761.43</td>\n",
       "      <td>0</td>\n",
       "      <td>89.94</td>\n",
       "      <td>3.554</td>\n",
       "      <td>215.669311</td>\n",
       "      <td>7.962</td>\n",
       "    </tr>\n",
       "    <tr>\n",
       "      <th>5223</th>\n",
       "      <td>37</td>\n",
       "      <td>15-07-2011</td>\n",
       "      <td>498749.62</td>\n",
       "      <td>0</td>\n",
       "      <td>85.63</td>\n",
       "      <td>3.575</td>\n",
       "      <td>214.108365</td>\n",
       "      <td>8.177</td>\n",
       "    </tr>\n",
       "    <tr>\n",
       "      <th>1880</th>\n",
       "      <td>14</td>\n",
       "      <td>02-07-2010</td>\n",
       "      <td>2334788.42</td>\n",
       "      <td>0</td>\n",
       "      <td>76.61</td>\n",
       "      <td>2.815</td>\n",
       "      <td>182.318780</td>\n",
       "      <td>8.743</td>\n",
       "    </tr>\n",
       "    <tr>\n",
       "      <th>4621</th>\n",
       "      <td>33</td>\n",
       "      <td>17-12-2010</td>\n",
       "      <td>238875.26</td>\n",
       "      <td>0</td>\n",
       "      <td>61.12</td>\n",
       "      <td>3.125</td>\n",
       "      <td>126.879484</td>\n",
       "      <td>9.265</td>\n",
       "    </tr>\n",
       "    <tr>\n",
       "      <th>3203</th>\n",
       "      <td>23</td>\n",
       "      <td>11-03-2011</td>\n",
       "      <td>1042043.55</td>\n",
       "      <td>0</td>\n",
       "      <td>29.36</td>\n",
       "      <td>3.600</td>\n",
       "      <td>133.736143</td>\n",
       "      <td>5.114</td>\n",
       "    </tr>\n",
       "    <tr>\n",
       "      <th>2571</th>\n",
       "      <td>18</td>\n",
       "      <td>12-10-2012</td>\n",
       "      <td>1074079.00</td>\n",
       "      <td>0</td>\n",
       "      <td>50.97</td>\n",
       "      <td>4.029</td>\n",
       "      <td>138.911700</td>\n",
       "      <td>8.243</td>\n",
       "    </tr>\n",
       "  </tbody>\n",
       "</table>\n",
       "</div>"
      ],
      "text/plain": [
       "      Store        Date  Weekly_Sales  Holiday_Flag  Temperature  Fuel_Price  \\\n",
       "1728     13  30-04-2010    1785823.37             0        48.33       2.941   \n",
       "1877     14  11-06-2010    2249570.04             0        69.71       2.809   \n",
       "3893     28  17-09-2010    1159812.35             0        82.45       3.028   \n",
       "607       5  08-10-2010     290494.85             0        64.99       2.633   \n",
       "1712     12  05-10-2012     979825.92             0        81.61       3.966   \n",
       "2451     18  25-06-2010    1220983.17             0        74.04       2.810   \n",
       "3432     25  05-02-2010     677231.63             0        21.10       2.784   \n",
       "5378     38  07-10-2011     449516.29             0        70.44       3.827   \n",
       "1391     10  03-02-2012    1867403.01             0        56.85       3.543   \n",
       "4466     32  24-09-2010    1067432.10             0        64.19       2.793   \n",
       "3269     23  15-06-2012    1543667.68             0        64.73       3.683   \n",
       "1816     13  06-01-2012    1865752.78             0        33.80       3.080   \n",
       "914       7  04-03-2011     551378.39             0        21.84       3.232   \n",
       "6405     45  06-04-2012     899479.43             0        49.73       3.996   \n",
       "80        1  19-08-2011    1530761.43             0        89.94       3.554   \n",
       "5223     37  15-07-2011     498749.62             0        85.63       3.575   \n",
       "1880     14  02-07-2010    2334788.42             0        76.61       2.815   \n",
       "4621     33  17-12-2010     238875.26             0        61.12       3.125   \n",
       "3203     23  11-03-2011    1042043.55             0        29.36       3.600   \n",
       "2571     18  12-10-2012    1074079.00             0        50.97       4.029   \n",
       "\n",
       "             CPI  Unemployment  \n",
       "1728  126.380567         8.107  \n",
       "1877  182.431557         8.899  \n",
       "3893  126.145467        14.180  \n",
       "607   212.301952         6.768  \n",
       "1712  131.075667        10.199  \n",
       "2451  132.497600         9.269  \n",
       "3432  204.247194         8.187  \n",
       "5378  129.693800        12.890  \n",
       "1391  130.349677         7.545  \n",
       "4466  190.571326         9.017  \n",
       "3269  138.129533         4.125  \n",
       "1816  130.157516         6.104  \n",
       "914   192.011600         8.818  \n",
       "6405  190.685171         8.567  \n",
       "80    215.669311         7.962  \n",
       "5223  214.108365         8.177  \n",
       "1880  182.318780         8.743  \n",
       "4621  126.879484         9.265  \n",
       "3203  133.736143         5.114  \n",
       "2571  138.911700         8.243  "
      ]
     },
     "execution_count": 19,
     "metadata": {},
     "output_type": "execute_result"
    }
   ],
   "source": [
    "orginal_data.sample(20)"
   ]
  },
  {
   "cell_type": "markdown",
   "id": "5677c6a1-c7b8-4dfb-81b4-4d5f9b733f09",
   "metadata": {},
   "source": [
    "从抽样的输出结果来看，orginal_data的数据符合“每列是一个变量，每行是一个观察值，每个单元格是一个值”标准。具体来看每行是每个店铺一个销售周的销售数据，每列是销售数据的相关变量，因此不存在结构性问题。"
   ]
  },
  {
   "cell_type": "markdown",
   "id": "2083a701-3ec8-4cc5-aa9b-feb4a3474088",
   "metadata": {},
   "source": [
    "### 评估数据干净度"
   ]
  },
  {
   "cell_type": "code",
   "execution_count": 10,
   "id": "aa0bef4e-a6ca-4284-b313-3fb2da769385",
   "metadata": {},
   "outputs": [
    {
     "name": "stdout",
     "output_type": "stream",
     "text": [
      "<class 'pandas.core.frame.DataFrame'>\n",
      "RangeIndex: 6435 entries, 0 to 6434\n",
      "Data columns (total 8 columns):\n",
      " #   Column        Non-Null Count  Dtype  \n",
      "---  ------        --------------  -----  \n",
      " 0   Store         6435 non-null   int64  \n",
      " 1   Date          6435 non-null   object \n",
      " 2   Weekly_Sales  6435 non-null   float64\n",
      " 3   Holiday_Flag  6435 non-null   int64  \n",
      " 4   Temperature   6435 non-null   float64\n",
      " 5   Fuel_Price    6435 non-null   float64\n",
      " 6   CPI           6435 non-null   float64\n",
      " 7   Unemployment  6435 non-null   float64\n",
      "dtypes: float64(5), int64(2), object(1)\n",
      "memory usage: 402.3+ KB\n"
     ]
    }
   ],
   "source": [
    "orginal_data.info()"
   ]
  },
  {
   "cell_type": "markdown",
   "id": "7d6fd7b6-8f27-430f-97bc-c8356b4ad748",
   "metadata": {},
   "source": [
    "从数据输出结果来看，共有6435个观察值，没有变量存在缺失。  \n",
    "\n",
    "但是，Store变量的数据类型应为字符串，Date变量的数据类型应为日期，Holiday_Flag变量的数据类型应为布尔型。"
   ]
  },
  {
   "cell_type": "markdown",
   "id": "fbcd0b7a-2430-4736-b418-a5a99cd1b2f1",
   "metadata": {},
   "source": [
    "#### 评估重复数据"
   ]
  },
  {
   "cell_type": "markdown",
   "id": "634451b6-f59a-4a2f-9314-7baba1bf1481",
   "metadata": {},
   "source": [
    "根据数据变量的含义来看，当店铺编号和销售周均重复的数据会对分析结果造成影响，因此筛选店铺编号和销售周一致的数据。"
   ]
  },
  {
   "cell_type": "code",
   "execution_count": 18,
   "id": "839c043c-92bd-4903-879d-c2394d188647",
   "metadata": {},
   "outputs": [
    {
     "data": {
      "text/plain": [
       "0"
      ]
     },
     "execution_count": 18,
     "metadata": {},
     "output_type": "execute_result"
    }
   ],
   "source": [
    "orginal_data.duplicated(['Store','Date']).sum()"
   ]
  },
  {
   "cell_type": "markdown",
   "id": "10ebc5b7-09b2-4e0a-b09d-9fa47d9948d6",
   "metadata": {},
   "source": [
    "从输出结果来看，不存在店铺编号和销售周均重复的数据，即不存在影响分析的重复数据。"
   ]
  },
  {
   "cell_type": "markdown",
   "id": "28665de5-cfc4-4616-a6dc-e5cc53b6231c",
   "metadata": {},
   "source": [
    "#### 评估无效数据"
   ]
  },
  {
   "cell_type": "code",
   "execution_count": 20,
   "id": "48e9c01b-0402-471a-9ffe-1e39741b6f17",
   "metadata": {},
   "outputs": [
    {
     "data": {
      "text/html": [
       "<div>\n",
       "<style scoped>\n",
       "    .dataframe tbody tr th:only-of-type {\n",
       "        vertical-align: middle;\n",
       "    }\n",
       "\n",
       "    .dataframe tbody tr th {\n",
       "        vertical-align: top;\n",
       "    }\n",
       "\n",
       "    .dataframe thead th {\n",
       "        text-align: right;\n",
       "    }\n",
       "</style>\n",
       "<table border=\"1\" class=\"dataframe\">\n",
       "  <thead>\n",
       "    <tr style=\"text-align: right;\">\n",
       "      <th></th>\n",
       "      <th>Store</th>\n",
       "      <th>Weekly_Sales</th>\n",
       "      <th>Holiday_Flag</th>\n",
       "      <th>Temperature</th>\n",
       "      <th>Fuel_Price</th>\n",
       "      <th>CPI</th>\n",
       "      <th>Unemployment</th>\n",
       "    </tr>\n",
       "  </thead>\n",
       "  <tbody>\n",
       "    <tr>\n",
       "      <th>count</th>\n",
       "      <td>6435.000000</td>\n",
       "      <td>6.435000e+03</td>\n",
       "      <td>6435.000000</td>\n",
       "      <td>6435.000000</td>\n",
       "      <td>6435.000000</td>\n",
       "      <td>6435.000000</td>\n",
       "      <td>6435.000000</td>\n",
       "    </tr>\n",
       "    <tr>\n",
       "      <th>mean</th>\n",
       "      <td>23.000000</td>\n",
       "      <td>1.046965e+06</td>\n",
       "      <td>0.069930</td>\n",
       "      <td>60.663782</td>\n",
       "      <td>3.358607</td>\n",
       "      <td>171.578394</td>\n",
       "      <td>7.999151</td>\n",
       "    </tr>\n",
       "    <tr>\n",
       "      <th>std</th>\n",
       "      <td>12.988182</td>\n",
       "      <td>5.643666e+05</td>\n",
       "      <td>0.255049</td>\n",
       "      <td>18.444933</td>\n",
       "      <td>0.459020</td>\n",
       "      <td>39.356712</td>\n",
       "      <td>1.875885</td>\n",
       "    </tr>\n",
       "    <tr>\n",
       "      <th>min</th>\n",
       "      <td>1.000000</td>\n",
       "      <td>2.099862e+05</td>\n",
       "      <td>0.000000</td>\n",
       "      <td>-2.060000</td>\n",
       "      <td>2.472000</td>\n",
       "      <td>126.064000</td>\n",
       "      <td>3.879000</td>\n",
       "    </tr>\n",
       "    <tr>\n",
       "      <th>25%</th>\n",
       "      <td>12.000000</td>\n",
       "      <td>5.533501e+05</td>\n",
       "      <td>0.000000</td>\n",
       "      <td>47.460000</td>\n",
       "      <td>2.933000</td>\n",
       "      <td>131.735000</td>\n",
       "      <td>6.891000</td>\n",
       "    </tr>\n",
       "    <tr>\n",
       "      <th>50%</th>\n",
       "      <td>23.000000</td>\n",
       "      <td>9.607460e+05</td>\n",
       "      <td>0.000000</td>\n",
       "      <td>62.670000</td>\n",
       "      <td>3.445000</td>\n",
       "      <td>182.616521</td>\n",
       "      <td>7.874000</td>\n",
       "    </tr>\n",
       "    <tr>\n",
       "      <th>75%</th>\n",
       "      <td>34.000000</td>\n",
       "      <td>1.420159e+06</td>\n",
       "      <td>0.000000</td>\n",
       "      <td>74.940000</td>\n",
       "      <td>3.735000</td>\n",
       "      <td>212.743293</td>\n",
       "      <td>8.622000</td>\n",
       "    </tr>\n",
       "    <tr>\n",
       "      <th>max</th>\n",
       "      <td>45.000000</td>\n",
       "      <td>3.818686e+06</td>\n",
       "      <td>1.000000</td>\n",
       "      <td>100.140000</td>\n",
       "      <td>4.468000</td>\n",
       "      <td>227.232807</td>\n",
       "      <td>14.313000</td>\n",
       "    </tr>\n",
       "  </tbody>\n",
       "</table>\n",
       "</div>"
      ],
      "text/plain": [
       "             Store  Weekly_Sales  Holiday_Flag  Temperature   Fuel_Price  \\\n",
       "count  6435.000000  6.435000e+03   6435.000000  6435.000000  6435.000000   \n",
       "mean     23.000000  1.046965e+06      0.069930    60.663782     3.358607   \n",
       "std      12.988182  5.643666e+05      0.255049    18.444933     0.459020   \n",
       "min       1.000000  2.099862e+05      0.000000    -2.060000     2.472000   \n",
       "25%      12.000000  5.533501e+05      0.000000    47.460000     2.933000   \n",
       "50%      23.000000  9.607460e+05      0.000000    62.670000     3.445000   \n",
       "75%      34.000000  1.420159e+06      0.000000    74.940000     3.735000   \n",
       "max      45.000000  3.818686e+06      1.000000   100.140000     4.468000   \n",
       "\n",
       "               CPI  Unemployment  \n",
       "count  6435.000000   6435.000000  \n",
       "mean    171.578394      7.999151  \n",
       "std      39.356712      1.875885  \n",
       "min     126.064000      3.879000  \n",
       "25%     131.735000      6.891000  \n",
       "50%     182.616521      7.874000  \n",
       "75%     212.743293      8.622000  \n",
       "max     227.232807     14.313000  "
      ]
     },
     "execution_count": 20,
     "metadata": {},
     "output_type": "execute_result"
    }
   ],
   "source": [
    "orginal_data.describe()"
   ]
  },
  {
   "cell_type": "markdown",
   "id": "2f266ec0-0fd5-4f35-ba36-c014b5e61e33",
   "metadata": {},
   "source": [
    "从输出结果来看，所有数据均在正常范围内，不存在无效数据。"
   ]
  },
  {
   "cell_type": "markdown",
   "id": "70f62f3a-5167-460b-8522-34d25c83c767",
   "metadata": {},
   "source": [
    "## 清理数据"
   ]
  },
  {
   "cell_type": "markdown",
   "id": "03e3606f-4218-47ff-8678-91b04924aeca",
   "metadata": {},
   "source": [
    "创建DataFrame cleaned_data进行数据清理工作。"
   ]
  },
  {
   "cell_type": "code",
   "execution_count": 22,
   "id": "2df73660-be92-4d9b-a4b3-7cf5c43ff8c2",
   "metadata": {},
   "outputs": [
    {
     "data": {
      "text/html": [
       "<div>\n",
       "<style scoped>\n",
       "    .dataframe tbody tr th:only-of-type {\n",
       "        vertical-align: middle;\n",
       "    }\n",
       "\n",
       "    .dataframe tbody tr th {\n",
       "        vertical-align: top;\n",
       "    }\n",
       "\n",
       "    .dataframe thead th {\n",
       "        text-align: right;\n",
       "    }\n",
       "</style>\n",
       "<table border=\"1\" class=\"dataframe\">\n",
       "  <thead>\n",
       "    <tr style=\"text-align: right;\">\n",
       "      <th></th>\n",
       "      <th>Store</th>\n",
       "      <th>Date</th>\n",
       "      <th>Weekly_Sales</th>\n",
       "      <th>Holiday_Flag</th>\n",
       "      <th>Temperature</th>\n",
       "      <th>Fuel_Price</th>\n",
       "      <th>CPI</th>\n",
       "      <th>Unemployment</th>\n",
       "    </tr>\n",
       "  </thead>\n",
       "  <tbody>\n",
       "    <tr>\n",
       "      <th>0</th>\n",
       "      <td>1</td>\n",
       "      <td>05-02-2010</td>\n",
       "      <td>1643690.90</td>\n",
       "      <td>0</td>\n",
       "      <td>42.31</td>\n",
       "      <td>2.572</td>\n",
       "      <td>211.096358</td>\n",
       "      <td>8.106</td>\n",
       "    </tr>\n",
       "    <tr>\n",
       "      <th>1</th>\n",
       "      <td>1</td>\n",
       "      <td>12-02-2010</td>\n",
       "      <td>1641957.44</td>\n",
       "      <td>1</td>\n",
       "      <td>38.51</td>\n",
       "      <td>2.548</td>\n",
       "      <td>211.242170</td>\n",
       "      <td>8.106</td>\n",
       "    </tr>\n",
       "    <tr>\n",
       "      <th>2</th>\n",
       "      <td>1</td>\n",
       "      <td>19-02-2010</td>\n",
       "      <td>1611968.17</td>\n",
       "      <td>0</td>\n",
       "      <td>39.93</td>\n",
       "      <td>2.514</td>\n",
       "      <td>211.289143</td>\n",
       "      <td>8.106</td>\n",
       "    </tr>\n",
       "    <tr>\n",
       "      <th>3</th>\n",
       "      <td>1</td>\n",
       "      <td>26-02-2010</td>\n",
       "      <td>1409727.59</td>\n",
       "      <td>0</td>\n",
       "      <td>46.63</td>\n",
       "      <td>2.561</td>\n",
       "      <td>211.319643</td>\n",
       "      <td>8.106</td>\n",
       "    </tr>\n",
       "    <tr>\n",
       "      <th>4</th>\n",
       "      <td>1</td>\n",
       "      <td>05-03-2010</td>\n",
       "      <td>1554806.68</td>\n",
       "      <td>0</td>\n",
       "      <td>46.50</td>\n",
       "      <td>2.625</td>\n",
       "      <td>211.350143</td>\n",
       "      <td>8.106</td>\n",
       "    </tr>\n",
       "  </tbody>\n",
       "</table>\n",
       "</div>"
      ],
      "text/plain": [
       "   Store        Date  Weekly_Sales  Holiday_Flag  Temperature  Fuel_Price  \\\n",
       "0      1  05-02-2010    1643690.90             0        42.31       2.572   \n",
       "1      1  12-02-2010    1641957.44             1        38.51       2.548   \n",
       "2      1  19-02-2010    1611968.17             0        39.93       2.514   \n",
       "3      1  26-02-2010    1409727.59             0        46.63       2.561   \n",
       "4      1  05-03-2010    1554806.68             0        46.50       2.625   \n",
       "\n",
       "          CPI  Unemployment  \n",
       "0  211.096358         8.106  \n",
       "1  211.242170         8.106  \n",
       "2  211.289143         8.106  \n",
       "3  211.319643         8.106  \n",
       "4  211.350143         8.106  "
      ]
     },
     "execution_count": 22,
     "metadata": {},
     "output_type": "execute_result"
    }
   ],
   "source": [
    "cleaned_data = orginal_data\n",
    "cleaned_data.head()"
   ]
  },
  {
   "cell_type": "markdown",
   "id": "80803a21-836c-4bc8-9fbe-9ec2ee8c3e53",
   "metadata": {},
   "source": [
    "待处理问题：  \n",
    "- 将Store变量的数据类型改为字符串\n",
    "- 将Date变量的数据类型改为日期\n",
    "- 将Holiday_Flag变量的数据类型改为布尔型"
   ]
  },
  {
   "cell_type": "markdown",
   "id": "9070aeb4-113e-43b5-ab13-380fe2e527f8",
   "metadata": {},
   "source": [
    "**将Store变量的数据类型改为字符串**"
   ]
  },
  {
   "cell_type": "code",
   "execution_count": 27,
   "id": "030dd882-98e9-46b4-91f9-c0aa92bfeb57",
   "metadata": {},
   "outputs": [
    {
     "data": {
      "text/plain": [
       "Store            object\n",
       "Date             object\n",
       "Weekly_Sales    float64\n",
       "Holiday_Flag      int64\n",
       "Temperature     float64\n",
       "Fuel_Price      float64\n",
       "CPI             float64\n",
       "Unemployment    float64\n",
       "dtype: object"
      ]
     },
     "execution_count": 27,
     "metadata": {},
     "output_type": "execute_result"
    }
   ],
   "source": [
    "cleaned_data['Store'] = cleaned_data['Store'].astype('str')\n",
    "cleaned_data.dtypes"
   ]
  },
  {
   "cell_type": "markdown",
   "id": "c5d98998-52a0-4a66-b390-767a15393229",
   "metadata": {},
   "source": [
    "**将Date变量的数据类型改为日期**"
   ]
  },
  {
   "cell_type": "code",
   "execution_count": 35,
   "id": "9a8e0f1d-0bc8-48cc-828c-1dcd8c589998",
   "metadata": {},
   "outputs": [],
   "source": [
    "cleaned_data['Date'] = pd.to_datetime(cleaned_data['Date'],format='%d-%m-%Y')"
   ]
  },
  {
   "cell_type": "code",
   "execution_count": 36,
   "id": "6b0b0ae7-fa7c-4a34-a0dd-724d890e9b3f",
   "metadata": {},
   "outputs": [
    {
     "data": {
      "text/plain": [
       "0      2010-02-05\n",
       "1      2010-02-12\n",
       "2      2010-02-19\n",
       "3      2010-02-26\n",
       "4      2010-03-05\n",
       "          ...    \n",
       "6430   2012-09-28\n",
       "6431   2012-10-05\n",
       "6432   2012-10-12\n",
       "6433   2012-10-19\n",
       "6434   2012-10-26\n",
       "Name: Date, Length: 6435, dtype: datetime64[ns]"
      ]
     },
     "execution_count": 36,
     "metadata": {},
     "output_type": "execute_result"
    }
   ],
   "source": [
    "cleaned_data['Date']"
   ]
  },
  {
   "cell_type": "markdown",
   "id": "4ef2b910-742d-4ad9-8164-034042a796f0",
   "metadata": {},
   "source": [
    "**将Holiday_Flag变量的数据类型改为布尔型**"
   ]
  },
  {
   "cell_type": "code",
   "execution_count": 38,
   "id": "0565e0d8-e8fa-4907-bdac-1c45f59906f7",
   "metadata": {},
   "outputs": [
    {
     "data": {
      "text/plain": [
       "Store                   object\n",
       "Date            datetime64[ns]\n",
       "Weekly_Sales           float64\n",
       "Holiday_Flag              bool\n",
       "Temperature            float64\n",
       "Fuel_Price             float64\n",
       "CPI                    float64\n",
       "Unemployment           float64\n",
       "dtype: object"
      ]
     },
     "execution_count": 38,
     "metadata": {},
     "output_type": "execute_result"
    }
   ],
   "source": [
    "cleaned_data['Holiday_Flag'] = cleaned_data['Holiday_Flag'].astype(\"bool\")\n",
    "cleaned_data.dtypes"
   ]
  },
  {
   "cell_type": "markdown",
   "id": "6346fed9-b9e5-4bf7-abcd-85cd4754a8ff",
   "metadata": {},
   "source": [
    "## 保存清理数据"
   ]
  },
  {
   "cell_type": "markdown",
   "id": "8196be45-57b0-4957-8b3c-bc34118cb8c2",
   "metadata": {},
   "source": [
    "将完成清理的数据集保存为文件walmart_stores_data_cleaned.csv"
   ]
  },
  {
   "cell_type": "code",
   "execution_count": 40,
   "id": "5664ba7a-72f9-4db9-b299-281721a30cca",
   "metadata": {},
   "outputs": [],
   "source": [
    "cleaned_data.to_csv(\"walmart_stores_data_cleaned.csv\",index=False)"
   ]
  },
  {
   "cell_type": "code",
   "execution_count": 41,
   "id": "98387744-8e73-4343-af06-a83b7cc322b4",
   "metadata": {},
   "outputs": [
    {
     "data": {
      "text/html": [
       "<div>\n",
       "<style scoped>\n",
       "    .dataframe tbody tr th:only-of-type {\n",
       "        vertical-align: middle;\n",
       "    }\n",
       "\n",
       "    .dataframe tbody tr th {\n",
       "        vertical-align: top;\n",
       "    }\n",
       "\n",
       "    .dataframe thead th {\n",
       "        text-align: right;\n",
       "    }\n",
       "</style>\n",
       "<table border=\"1\" class=\"dataframe\">\n",
       "  <thead>\n",
       "    <tr style=\"text-align: right;\">\n",
       "      <th></th>\n",
       "      <th>Store</th>\n",
       "      <th>Date</th>\n",
       "      <th>Weekly_Sales</th>\n",
       "      <th>Holiday_Flag</th>\n",
       "      <th>Temperature</th>\n",
       "      <th>Fuel_Price</th>\n",
       "      <th>CPI</th>\n",
       "      <th>Unemployment</th>\n",
       "    </tr>\n",
       "  </thead>\n",
       "  <tbody>\n",
       "    <tr>\n",
       "      <th>0</th>\n",
       "      <td>1</td>\n",
       "      <td>2010-02-05</td>\n",
       "      <td>1643690.90</td>\n",
       "      <td>False</td>\n",
       "      <td>42.31</td>\n",
       "      <td>2.572</td>\n",
       "      <td>211.096358</td>\n",
       "      <td>8.106</td>\n",
       "    </tr>\n",
       "    <tr>\n",
       "      <th>1</th>\n",
       "      <td>1</td>\n",
       "      <td>2010-02-12</td>\n",
       "      <td>1641957.44</td>\n",
       "      <td>True</td>\n",
       "      <td>38.51</td>\n",
       "      <td>2.548</td>\n",
       "      <td>211.242170</td>\n",
       "      <td>8.106</td>\n",
       "    </tr>\n",
       "    <tr>\n",
       "      <th>2</th>\n",
       "      <td>1</td>\n",
       "      <td>2010-02-19</td>\n",
       "      <td>1611968.17</td>\n",
       "      <td>False</td>\n",
       "      <td>39.93</td>\n",
       "      <td>2.514</td>\n",
       "      <td>211.289143</td>\n",
       "      <td>8.106</td>\n",
       "    </tr>\n",
       "    <tr>\n",
       "      <th>3</th>\n",
       "      <td>1</td>\n",
       "      <td>2010-02-26</td>\n",
       "      <td>1409727.59</td>\n",
       "      <td>False</td>\n",
       "      <td>46.63</td>\n",
       "      <td>2.561</td>\n",
       "      <td>211.319643</td>\n",
       "      <td>8.106</td>\n",
       "    </tr>\n",
       "    <tr>\n",
       "      <th>4</th>\n",
       "      <td>1</td>\n",
       "      <td>2010-03-05</td>\n",
       "      <td>1554806.68</td>\n",
       "      <td>False</td>\n",
       "      <td>46.50</td>\n",
       "      <td>2.625</td>\n",
       "      <td>211.350143</td>\n",
       "      <td>8.106</td>\n",
       "    </tr>\n",
       "  </tbody>\n",
       "</table>\n",
       "</div>"
      ],
      "text/plain": [
       "   Store        Date  Weekly_Sales  Holiday_Flag  Temperature  Fuel_Price  \\\n",
       "0      1  2010-02-05    1643690.90         False        42.31       2.572   \n",
       "1      1  2010-02-12    1641957.44          True        38.51       2.548   \n",
       "2      1  2010-02-19    1611968.17         False        39.93       2.514   \n",
       "3      1  2010-02-26    1409727.59         False        46.63       2.561   \n",
       "4      1  2010-03-05    1554806.68         False        46.50       2.625   \n",
       "\n",
       "          CPI  Unemployment  \n",
       "0  211.096358         8.106  \n",
       "1  211.242170         8.106  \n",
       "2  211.289143         8.106  \n",
       "3  211.319643         8.106  \n",
       "4  211.350143         8.106  "
      ]
     },
     "execution_count": 41,
     "metadata": {},
     "output_type": "execute_result"
    }
   ],
   "source": [
    "show_data = pd.read_csv(\"walmart_stores_data_cleaned.csv\")\n",
    "show_data.head()"
   ]
  },
  {
   "cell_type": "markdown",
   "id": "bc32136e-58be-4dcf-992d-35a8fa77a1ad",
   "metadata": {},
   "source": [
    "## 整理数据"
   ]
  },
  {
   "cell_type": "markdown",
   "id": "7667c9c9-aa40-48b2-8a47-a8c7ecc29736",
   "metadata": {},
   "source": [
    "## 数据可视化"
   ]
  },
  {
   "cell_type": "markdown",
   "id": "39cefdf7-cd3d-4c08-9004-991a41d8919a",
   "metadata": {},
   "source": [
    "## 总结"
   ]
  }
 ],
 "metadata": {
  "kernelspec": {
   "display_name": "Python 3 (ipykernel)",
   "language": "python",
   "name": "python3"
  },
  "language_info": {
   "codemirror_mode": {
    "name": "ipython",
    "version": 3
   },
   "file_extension": ".py",
   "mimetype": "text/x-python",
   "name": "python",
   "nbconvert_exporter": "python",
   "pygments_lexer": "ipython3",
   "version": "3.10.0"
  }
 },
 "nbformat": 4,
 "nbformat_minor": 5
}
